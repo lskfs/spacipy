{
 "cells": [
  {
   "cell_type": "markdown",
   "metadata": {},
   "source": [
    "## Handle mask (or image) files for downstream analysis"
   ]
  },
  {
   "cell_type": "markdown",
   "metadata": {},
   "source": [
    ":::{note}\n",
    "Cell or tissue segmentation results often organized as a 2D **mask** file, which typically is a numpy ndarray with the same size of your input image. \n",
    "\n",
    "In mask file, an array element could represent a pixel of the image, while the meaning of the element value depend on what kind of mask it is. In tissue segmentation, the array should be organized as binary type. In cell segmentation, the array may contains distinct integer number to represent which object this pixel belong to. \n",
    ":::"
   ]
  },
  {
   "cell_type": "code",
   "execution_count": null,
   "metadata": {},
   "outputs": [],
   "source": []
  }
 ],
 "metadata": {
  "kernelspec": {
   "display_name": "planarian4d",
   "language": "python",
   "name": "python3"
  },
  "language_info": {
   "name": "python",
   "version": "3.9.19"
  }
 },
 "nbformat": 4,
 "nbformat_minor": 2
}
